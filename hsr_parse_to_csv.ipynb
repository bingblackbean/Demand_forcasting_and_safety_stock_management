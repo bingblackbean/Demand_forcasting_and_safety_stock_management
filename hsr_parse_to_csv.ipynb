{
  "nbformat": 4,
  "nbformat_minor": 0,
  "metadata": {
    "colab": {
      "name": "hsr_parse_to_csv.ipynb",
      "provenance": [],
      "collapsed_sections": [],
      "authorship_tag": "ABX9TyPzTU6ZZUtNFO6DauBymDb8",
      "include_colab_link": true
    },
    "kernelspec": {
      "name": "python3",
      "display_name": "Python 3"
    }
  },
  "cells": [
    {
      "cell_type": "markdown",
      "metadata": {
        "id": "view-in-github",
        "colab_type": "text"
      },
      "source": [
        "<a href=\"https://colab.research.google.com/github/bingblackbean/Demand_forcasting_and_safety_stock_management/blob/master/hsr_parse_to_csv.ipynb\" target=\"_parent\"><img src=\"https://colab.research.google.com/assets/colab-badge.svg\" alt=\"Open In Colab\"/></a>"
      ]
    },
    {
      "cell_type": "code",
      "metadata": {
        "id": "dt-sFFGKVDhO"
      },
      "source": [
        "import pandas as pd\r\n",
        "import glob\r\n",
        "import os\r\n"
      ],
      "execution_count": 49,
      "outputs": []
    },
    {
      "cell_type": "code",
      "metadata": {
        "id": "0mSiOqYHVqWo"
      },
      "source": [
        "out_folder = '/content/sample_data'\r\n"
      ],
      "execution_count": 50,
      "outputs": []
    },
    {
      "cell_type": "code",
      "metadata": {
        "colab": {
          "base_uri": "https://localhost:8080/"
        },
        "id": "Vr_SGkEmVtJI",
        "outputId": "1af82ba7-2eab-40e9-982a-f5434477238c"
      },
      "source": [
        "hist_txt_files = glob.glob(f\"{out_folder}/*.txt\")\r\n",
        "\r\n",
        "for file in hist_txt_files:\r\n",
        "    file_name = os.path.basename(file).strip('.txt')\r\n",
        "    with open(file,mode='r') as f:\r\n",
        "        original_str = f.read()\r\n",
        "        original_str = original_str.replace('\\t73\\t', '\\t')\r\n",
        "        original_str = original_str.replace('\\t\\t','\\t')\r\n",
        "    with open(file,mode='w') as f:\r\n",
        "        f.write(original_str)\r\n",
        "    df = pd.read_csv(file,sep='\\t')\r\n",
        "    df.to_csv(f'{out_folder}/{file_name}.csv')\r\n",
        "    print(f'{file_name} done.\\n')\r\n",
        "print('all done\\n')\r\n"
      ],
      "execution_count": 51,
      "outputs": [
        {
          "output_type": "stream",
          "text": [
            "OUT_EFF_ROV_UNIT4_DEC_JAN done.\n",
            "\n",
            "OUT_EFF_ROV_UNIT4_MAR_APR done.\n",
            "\n",
            "OUT_EFF_ROV_UNIT4_JUN_JUL done.\n",
            "\n",
            "OUT_EFF_ROV_UNIT4_SEP_OCT done.\n",
            "\n",
            "all done\n",
            "\n"
          ],
          "name": "stdout"
        }
      ]
    }
  ]
}